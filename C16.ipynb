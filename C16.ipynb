{
 "cells": [
  {
   "cell_type": "code",
   "execution_count": 7,
   "id": "624be37b",
   "metadata": {},
   "outputs": [],
   "source": [
    "import pandas as pd\n",
    "import os\n",
    "\n",
    "import decryption # my file - decryption.py"
   ]
  },
  {
   "cell_type": "code",
   "execution_count": 8,
   "id": "2645404d",
   "metadata": {},
   "outputs": [
    {
     "data": {
      "text/plain": [
       "['C16_2024.csv',\n",
       " 'C16_2024_v1.csv',\n",
       " 'data-1723212002357.csv',\n",
       " 'gr_C16_2024.csv',\n",
       " 'note_procedure.csv']"
      ]
     },
     "execution_count": 8,
     "metadata": {},
     "output_type": "execute_result"
    }
   ],
   "source": [
    "os.listdir('./csv')"
   ]
  },
  {
   "cell_type": "code",
   "execution_count": 9,
   "id": "e14cb1c1",
   "metadata": {},
   "outputs": [],
   "source": [
    "df = pd.read_csv('./csv/C16_2024_v1.csv', dtype={'edrpou':'object'})\n",
    "# gr_c = pd.read_csv('./csv/gr_C16_2024.csv', dtype={'edrpou':'object'})\n",
    "# gr_c.to_excel('./out/C16_2024.xlsx', index=False)"
   ]
  },
  {
   "cell_type": "code",
   "execution_count": 10,
   "id": "7e757c3b",
   "metadata": {},
   "outputs": [],
   "source": [
    "intervents = decryption.CsvToDict(\"./data/intervents.csv\", \"|\")\n",
    "i = intervents.create_dict()\n",
    "dff = decryption.Df()\n",
    "dff.decryption_interv_diag(df, i, \"actions\")\n",
    "df.to_excel(\"емз_C16_12082024.xlsx\", index=False)"
   ]
  },
  {
   "cell_type": "code",
   "execution_count": 5,
   "id": "b73caefd",
   "metadata": {},
   "outputs": [
    {
     "data": {
      "text/html": [
       "<div>\n",
       "<style scoped>\n",
       "    .dataframe tbody tr th:only-of-type {\n",
       "        vertical-align: middle;\n",
       "    }\n",
       "\n",
       "    .dataframe tbody tr th {\n",
       "        vertical-align: top;\n",
       "    }\n",
       "\n",
       "    .dataframe thead th {\n",
       "        text-align: right;\n",
       "    }\n",
       "</style>\n",
       "<table border=\"1\" class=\"dataframe\">\n",
       "  <thead>\n",
       "    <tr style=\"text-align: right;\">\n",
       "      <th></th>\n",
       "      <th>edrpou</th>\n",
       "      <th>registration_area</th>\n",
       "      <th>public_name</th>\n",
       "      <th>patient_id</th>\n",
       "      <th>event_id</th>\n",
       "      <th>report_month</th>\n",
       "      <th>packet_number</th>\n",
       "      <th>adrg</th>\n",
       "      <th>service</th>\n",
       "      <th>основний_діагноз</th>\n",
       "      <th>actions</th>\n",
       "      <th>is_payment</th>\n",
       "    </tr>\n",
       "  </thead>\n",
       "  <tbody>\n",
       "    <tr>\n",
       "      <th>0</th>\n",
       "      <td>01984624</td>\n",
       "      <td>ДНІПРОПЕТРОВСЬКА</td>\n",
       "      <td>КОМУНАЛЬНЕ НЕКОМЕРЦІЙНЕ ПІДПРИЄМСТВО \"МІСЬКА К...</td>\n",
       "      <td>1F04D410E6C8E73E175BF302B94A7D2153AB116889070B...</td>\n",
       "      <td>3624ed7f-e1fd-23a4-a1a9-d39a79ddfd0f</td>\n",
       "      <td>5</td>\n",
       "      <td>3</td>\n",
       "      <td>C16</td>\n",
       "      <td>C16 - Операції на кришталику</td>\n",
       "      <td>H26.2 - Ускладнена катаракта</td>\n",
       "      <td>96197-19,96156-00,96156-00,92509-29,92500-00,4...</td>\n",
       "      <td>True</td>\n",
       "    </tr>\n",
       "    <tr>\n",
       "      <th>1</th>\n",
       "      <td>02005585</td>\n",
       "      <td>ЧЕРКАСЬКА</td>\n",
       "      <td>КОМУНАЛЬНЕ НЕКОМЕРЦІЙНЕ ПІДПРИЄМСТВО \"ЧЕРКАСЬК...</td>\n",
       "      <td>914917789C97A262B71FDB0D714130ADEFCB675C6057F7...</td>\n",
       "      <td>027582de-df94-4a72-8058-97dfdd7f17c2</td>\n",
       "      <td>5</td>\n",
       "      <td>3</td>\n",
       "      <td>C16</td>\n",
       "      <td>C16 - Операції на кришталику</td>\n",
       "      <td>H25.1 - Стареча ядерна катаракта</td>\n",
       "      <td>A67010,42503-00,42698-07,42701-00</td>\n",
       "      <td>True</td>\n",
       "    </tr>\n",
       "    <tr>\n",
       "      <th>2</th>\n",
       "      <td>44496574</td>\n",
       "      <td>ЛЬВІВСЬКА</td>\n",
       "      <td>КОМУНАЛЬНЕ НЕКОМЕРЦІЙНЕ ПІДПРИЄМСТВО \" ЛЬВІВСЬ...</td>\n",
       "      <td>61DDF5B0439AEBE06490332E3DCF85AA2A260AE302D71C...</td>\n",
       "      <td>bf7319cf-a77f-434c-b827-b043c9c21e73</td>\n",
       "      <td>4</td>\n",
       "      <td>3</td>\n",
       "      <td>C16</td>\n",
       "      <td>C16 - Операції на кришталику</td>\n",
       "      <td>H26.2 - Ускладнена катаракта</td>\n",
       "      <td>92513-10,42824-01,92016-00,42698-07,42701-00,4...</td>\n",
       "      <td>True</td>\n",
       "    </tr>\n",
       "    <tr>\n",
       "      <th>3</th>\n",
       "      <td>02007472</td>\n",
       "      <td>СУМСЬКА</td>\n",
       "      <td>КОМУНАЛЬНЕ НЕКОМЕРЦІЙНЕ ПІДПРИЄМСТВО ОХТИРСЬКО...</td>\n",
       "      <td>52AF43AD2CECE852C54E27DB603C2C748CD577C8382D10...</td>\n",
       "      <td>0207e9c7-f1ba-53d1-a359-bb3a80945a6f</td>\n",
       "      <td>5</td>\n",
       "      <td>3</td>\n",
       "      <td>C16</td>\n",
       "      <td>C16 - Операції на кришталику</td>\n",
       "      <td>H27.0 - Афакія</td>\n",
       "      <td>96038-00,92016-00,96041-00,42824-01,96203-19,9...</td>\n",
       "      <td>True</td>\n",
       "    </tr>\n",
       "    <tr>\n",
       "      <th>4</th>\n",
       "      <td>05483291</td>\n",
       "      <td>МИКОЛАЇВСЬКА</td>\n",
       "      <td>КОМУНАЛЬНЕ НЕКОМЕРЦІЙНЕ ПІДПРИЄМСТВО \"ОБЛАСНА ...</td>\n",
       "      <td>252D3A0062021126BF8BD06585551B7F4C2CAD22342FDA...</td>\n",
       "      <td>e664cb79-0d5e-11ef-9887-27cf14a3c8ef</td>\n",
       "      <td>4</td>\n",
       "      <td>3</td>\n",
       "      <td>C16A</td>\n",
       "      <td>C16A - Операції на кришталику. Висока складніс...</td>\n",
       "      <td>H26.2 - Ускладнена катаракта</td>\n",
       "      <td>92500-00,96038-00,42701-00,42698-08,96199-19,9...</td>\n",
       "      <td>True</td>\n",
       "    </tr>\n",
       "  </tbody>\n",
       "</table>\n",
       "</div>"
      ],
      "text/plain": [
       "     edrpou registration_area  \\\n",
       "0  01984624  ДНІПРОПЕТРОВСЬКА   \n",
       "1  02005585         ЧЕРКАСЬКА   \n",
       "2  44496574         ЛЬВІВСЬКА   \n",
       "3  02007472           СУМСЬКА   \n",
       "4  05483291      МИКОЛАЇВСЬКА   \n",
       "\n",
       "                                         public_name  \\\n",
       "0  КОМУНАЛЬНЕ НЕКОМЕРЦІЙНЕ ПІДПРИЄМСТВО \"МІСЬКА К...   \n",
       "1  КОМУНАЛЬНЕ НЕКОМЕРЦІЙНЕ ПІДПРИЄМСТВО \"ЧЕРКАСЬК...   \n",
       "2  КОМУНАЛЬНЕ НЕКОМЕРЦІЙНЕ ПІДПРИЄМСТВО \" ЛЬВІВСЬ...   \n",
       "3  КОМУНАЛЬНЕ НЕКОМЕРЦІЙНЕ ПІДПРИЄМСТВО ОХТИРСЬКО...   \n",
       "4  КОМУНАЛЬНЕ НЕКОМЕРЦІЙНЕ ПІДПРИЄМСТВО \"ОБЛАСНА ...   \n",
       "\n",
       "                                          patient_id  \\\n",
       "0  1F04D410E6C8E73E175BF302B94A7D2153AB116889070B...   \n",
       "1  914917789C97A262B71FDB0D714130ADEFCB675C6057F7...   \n",
       "2  61DDF5B0439AEBE06490332E3DCF85AA2A260AE302D71C...   \n",
       "3  52AF43AD2CECE852C54E27DB603C2C748CD577C8382D10...   \n",
       "4  252D3A0062021126BF8BD06585551B7F4C2CAD22342FDA...   \n",
       "\n",
       "                               event_id  report_month  packet_number  adrg  \\\n",
       "0  3624ed7f-e1fd-23a4-a1a9-d39a79ddfd0f             5              3   C16   \n",
       "1  027582de-df94-4a72-8058-97dfdd7f17c2             5              3   C16   \n",
       "2  bf7319cf-a77f-434c-b827-b043c9c21e73             4              3   C16   \n",
       "3  0207e9c7-f1ba-53d1-a359-bb3a80945a6f             5              3   C16   \n",
       "4  e664cb79-0d5e-11ef-9887-27cf14a3c8ef             4              3  C16A   \n",
       "\n",
       "                                             service  \\\n",
       "0                       C16 - Операції на кришталику   \n",
       "1                       C16 - Операції на кришталику   \n",
       "2                       C16 - Операції на кришталику   \n",
       "3                       C16 - Операції на кришталику   \n",
       "4  C16A - Операції на кришталику. Висока складніс...   \n",
       "\n",
       "                   основний_діагноз  \\\n",
       "0      H26.2 - Ускладнена катаракта   \n",
       "1  H25.1 - Стареча ядерна катаракта   \n",
       "2      H26.2 - Ускладнена катаракта   \n",
       "3                    H27.0 - Афакія   \n",
       "4      H26.2 - Ускладнена катаракта   \n",
       "\n",
       "                                             actions  is_payment  \n",
       "0  96197-19,96156-00,96156-00,92509-29,92500-00,4...        True  \n",
       "1                  A67010,42503-00,42698-07,42701-00        True  \n",
       "2  92513-10,42824-01,92016-00,42698-07,42701-00,4...        True  \n",
       "3  96038-00,92016-00,96041-00,42824-01,96203-19,9...        True  \n",
       "4  92500-00,96038-00,42701-00,42698-08,96199-19,9...        True  "
      ]
     },
     "execution_count": 5,
     "metadata": {},
     "output_type": "execute_result"
    }
   ],
   "source": [
    "df.head()"
   ]
  },
  {
   "cell_type": "code",
   "execution_count": 6,
   "id": "3207ee92",
   "metadata": {},
   "outputs": [
    {
     "data": {
      "text/plain": [
       "0"
      ]
     },
     "execution_count": 6,
     "metadata": {},
     "output_type": "execute_result"
    }
   ],
   "source": [
    "df.duplicated(['event_id']).sum()"
   ]
  }
 ],
 "metadata": {
  "kernelspec": {
   "display_name": "Python 3 (ipykernel)",
   "language": "python",
   "name": "python3"
  },
  "language_info": {
   "codemirror_mode": {
    "name": "ipython",
    "version": 3
   },
   "file_extension": ".py",
   "mimetype": "text/x-python",
   "name": "python",
   "nbconvert_exporter": "python",
   "pygments_lexer": "ipython3",
   "version": "3.9.13"
  }
 },
 "nbformat": 4,
 "nbformat_minor": 5
}
