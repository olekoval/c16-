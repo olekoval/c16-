{
 "cells": [
  {
   "cell_type": "code",
   "execution_count": 10,
   "id": "624be37b",
   "metadata": {},
   "outputs": [],
   "source": [
    "import pandas as pd\n",
    "import os\n",
    "\n",
    "import decryption # my file - decryption.py"
   ]
  },
  {
   "cell_type": "code",
   "execution_count": 11,
   "id": "2645404d",
   "metadata": {},
   "outputs": [
    {
     "data": {
      "text/plain": [
       "['C16_2024.csv', 'data-1723212002357.csv', 'gr_C16_2024.csv']"
      ]
     },
     "execution_count": 11,
     "metadata": {},
     "output_type": "execute_result"
    }
   ],
   "source": [
    "os.listdir('./csv')"
   ]
  },
  {
   "cell_type": "code",
   "execution_count": 16,
   "id": "e14cb1c1",
   "metadata": {},
   "outputs": [],
   "source": [
    "df = pd.read_csv('./csv/C16_2024.csv', dtype={'edrpou':'object'})\n",
    "# gr_c = pd.read_csv('./csv/gr_C16_2024.csv', dtype={'edrpou':'object'})\n",
    "# gr_c.to_excel('./out/C16_2024.xlsx', index=False)"
   ]
  },
  {
   "cell_type": "code",
   "execution_count": 17,
   "id": "7e757c3b",
   "metadata": {},
   "outputs": [],
   "source": [
    "diagnosis = decryption.CsvToDict(\"./data/diagnosis.csv\", \"|\")\n",
    "intervents = decryption.CsvToDict(\"./data/intervents.csv\", \"|\")\n",
    "admission_source = decryption.CsvToDict(\"./data/admission_source.csv\", \",\")\n",
    "discharge_mode = decryption.CsvToDict(\"./data/discharge_mode.csv\", \",\")\n",
    "\n",
    "# створення словників з файлів csv\n",
    "d = diagnosis.create_dict()\n",
    "i = intervents.create_dict()\n",
    "dim = discharge_mode.create_dict()\n",
    "ads = admission_source.create_dict()\n",
    "\n",
    "# словник для зміни назв стовпчиків\n",
    "dd = {'edrpou':'ЕДРПОУ', 'kwd_name':'Заклад', 'registration_area':'Область',\n",
    "     'patient_id':'ID_пацієнта', 'person_gender':'Стать',\n",
    "     'age_years':'Вік', 'age_days':'Вік_до_року', 'admission_source':'Підстава_госпіталізації',\n",
    "     'discharge_mode':'Результат_госпіталізації', 'starts':'Дата_госпіталізації', 'ends':'Дата_виписки',\n",
    "     'length_of_stay':'Тривалість_лікуваня', 'principal_diagnosis':'Діагноз_основний',\n",
    "     'add_diagnoses':'Діагнози_додаткові', 'actions':'Проведені_інтервенції', 'packet_number':'Пакет',\n",
    "     'admission_weight':'Вага', 'performer_name':'ФИО исполнителя', 'description':'спеціальність'}\n",
    "\n",
    "# створення екземпляра класу Df() який розшифровує значення у \n",
    "# DataFrame - df\n",
    "dff = decryption.Df()\n",
    "dff.decryption_interv_diag(df, i, \"actions\")\n",
    "# зміна назв стовпчиків за допомогою словника вище (dd)\n",
    "df = df.rename(columns=dd)\n",
    "df.to_excel(\"емз_C16_2024.xlsx\", index=False)"
   ]
  },
  {
   "cell_type": "code",
   "execution_count": null,
   "id": "b73caefd",
   "metadata": {},
   "outputs": [],
   "source": []
  }
 ],
 "metadata": {
  "kernelspec": {
   "display_name": "Python 3 (ipykernel)",
   "language": "python",
   "name": "python3"
  },
  "language_info": {
   "codemirror_mode": {
    "name": "ipython",
    "version": 3
   },
   "file_extension": ".py",
   "mimetype": "text/x-python",
   "name": "python",
   "nbconvert_exporter": "python",
   "pygments_lexer": "ipython3",
   "version": "3.9.13"
  }
 },
 "nbformat": 4,
 "nbformat_minor": 5
}
